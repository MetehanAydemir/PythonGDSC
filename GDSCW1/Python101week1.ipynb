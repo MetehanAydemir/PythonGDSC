{
 "cells": [
  {
   "cell_type": "code",
   "execution_count": 1,
   "id": "d2d6f2c8",
   "metadata": {},
   "outputs": [
    {
     "name": "stdout",
     "output_type": "stream",
     "text": [
      "Hello World\n"
     ]
    }
   ],
   "source": [
    "#Bu bir yazdirma fonksiyonudur\n",
    "\n",
    "print(\"Hello World\")\n"
   ]
  },
  {
   "cell_type": "code",
   "execution_count": 118,
   "id": "fc074171",
   "metadata": {},
   "outputs": [
    {
     "name": "stdout",
     "output_type": "stream",
     "text": [
      "Alooooo\n"
     ]
    },
    {
     "data": {
      "text/plain": [
       "2"
      ]
     },
     "execution_count": 118,
     "metadata": {},
     "output_type": "execute_result"
    }
   ],
   "source": [
    "#Degisken atayalım int = tam sayı, string = Metin, float = küsaratlı sayılar double= daha fazla küsaratlı sayı\n",
    "t='a'\n",
    "x = 2.0     #float32 \n",
    "#x= 24.000001 #float64 \n",
    "c= 24.002131289371298471298759812758917258123\n",
    "y= \"Alooooo\" #peynir\n",
    "#y= 12345 #int32 \n",
    "\n",
    "print(y)\n",
    "#int(x)  -> 2\n",
    "#str(x)  -> 2.33\n",
    "#float(x)-> 2.33\n",
    "#bool(x) -> True\n",
    "x.is_integer()\n",
    "int(x)\n"
   ]
  },
  {
   "cell_type": "code",
   "execution_count": 183,
   "id": "5594bde0",
   "metadata": {},
   "outputs": [
    {
     "name": "stdout",
     "output_type": "stream",
     "text": [
      "Bizim siniftaki kisiler Sara,Elif,Ece,Hira,Ulas,Samet,Goksu\n",
      " \t\t sayisi \b\b  '7' \n"
     ]
    }
   ],
   "source": [
    "\n",
    "y= \"Sara,Elif,Ece,Hira,Ulas,Samet,Goksu\"\n",
    "#y.lower()  #kelimelerin harflerini küçültür\n",
    "#y.upper() #Kelimenin harflerini büyütür\n",
    "#y.find(\" \") #Aradığın harfi getirir\n",
    "#y.encode(encoding='UTF-8') #ingilizce alfabede olmayan özel karakterleri kullana bilmemizi sağlar \n",
    "#y.center(30, \" \")# Metnin önünü ve arkasını doldurur\n",
    "#y.isalnum() #Metin değişken sayıdan ibaretmi onu kontrol eder. \n",
    "#y.isalpha() #Metin alfabetik sıralı mı onu kontrol eder.\n",
    "#y.zfill(23) #Metnin başını 0 ile doldurur\n",
    "#y=y.split(sep=',')    #Metindeki belirttiğimiz kısımlardan böler ve list şeklinde geri döner\n",
    "#y.strip('S')\n",
    "#y.replace(\",\",\" \")\n",
    "sayi=\"sayisi \"\n",
    "print(\"Bizim siniftaki kisiler {}\\n \\t\\t {}\\b\\b  \\'{}\\' \".format(y,sayi,len(y.split(sep=','))))"
   ]
  },
  {
   "cell_type": "markdown",
   "id": "78cd59e9",
   "metadata": {},
   "source": [
    "<img src=\"screenshot-string.png\" alt=\"Alternative text\" />\n"
   ]
  },
  {
   "cell_type": "code",
   "execution_count": 185,
   "id": "46a6b780",
   "metadata": {},
   "outputs": [
    {
     "name": "stdout",
     "output_type": "stream",
     "text": [
      "Merhaba arkadaşlar ben github.com1\b'dayımı\b.\n",
      "Beni bulmak istiyorsanız\r",
      "GitHub A \"Metehanaydemir\" Yazın \n"
     ]
    }
   ],
   "source": [
    "print(\"Merhaba arkadaşlar ben {}\\b\\'dayımı\\b.\\nBeni bulmak istiyorsanız\\rGitHub A \\\"{}\\\" Yazın \".format(\"github.com1\",\"Metehanaydemir\"))"
   ]
  },
  {
   "cell_type": "markdown",
   "id": "66b71931",
   "metadata": {},
   "source": [
    "<img src=\"CompOp.png\" alt=\"Alternative text\" />\n",
    "\n"
   ]
  },
  {
   "cell_type": "code",
   "execution_count": 195,
   "id": "7d0a00d5",
   "metadata": {},
   "outputs": [
    {
     "data": {
      "text/plain": [
       "True"
      ]
     },
     "execution_count": 195,
     "metadata": {},
     "output_type": "execute_result"
    }
   ],
   "source": [
    "c=12\n",
    "z=123\n",
    "t=12.22\n",
    "c==int(t) or  int(t) <z\n"
   ]
  },
  {
   "cell_type": "markdown",
   "id": "f2a96072",
   "metadata": {},
   "source": [
    "<img src=\"LogicOp.png\" alt=\"Alternative text\" />\n",
    "\n"
   ]
  },
  {
   "cell_type": "code",
   "execution_count": 200,
   "id": "18ad5693",
   "metadata": {},
   "outputs": [],
   "source": [
    "gunah=0"
   ]
  },
  {
   "cell_type": "code",
   "execution_count": 212,
   "id": "537c19bc",
   "metadata": {},
   "outputs": [
    {
     "name": "stdout",
     "output_type": "stream",
     "text": [
      " Sayi gir12e\n",
      "evet sayiniz bu 12e\n"
     ]
    }
   ],
   "source": [
    "p=input(\" Sayi gir\")\n",
    "\n",
    "if True!=p.isalnum() and gunah<1:\n",
    "    print(\"Lutfen Sayi Gir\")\n",
    "    gunah=gunah+1\n",
    "elif True!=p.isalnum() and gunah>1:\n",
    "    print(\"Oku! ayet 1 kurani kerim \")\n",
    "    gunah=gunah+1\n",
    "elif True==p.isalnum():\n",
    "    print(\"evet sayiniz bu {}\".format(p))\n",
    "else:\n",
    "    print(\"Programi lutfen kullanmayiniz\")"
   ]
  },
  {
   "cell_type": "code",
   "execution_count": 215,
   "id": "11cc3351",
   "metadata": {},
   "outputs": [],
   "source": [
    "def programinismi(x):\n",
    "    x=x+10\n",
    "    return x"
   ]
  },
  {
   "cell_type": "code",
   "execution_count": 217,
   "id": "e71c5260",
   "metadata": {},
   "outputs": [
    {
     "data": {
      "text/plain": [
       "25"
      ]
     },
     "execution_count": 217,
     "metadata": {},
     "output_type": "execute_result"
    }
   ],
   "source": [
    "pe= 15\n",
    "programinismi(pe)"
   ]
  },
  {
   "cell_type": "code",
   "execution_count": 222,
   "id": "b20e9ea9",
   "metadata": {},
   "outputs": [
    {
     "name": "stdout",
     "output_type": "stream",
     "text": [
      "Collecting pyinstaller\n",
      "  Downloading pyinstaller-5.7.0-py3-none-macosx_10_13_universal2.whl (923 kB)\n",
      "\u001b[2K     \u001b[90m━━━━━━━━━━━━━━━━━━━━━━━━━━━━━━━━━━━━━━━\u001b[0m \u001b[32m923.6/923.6 kB\u001b[0m \u001b[31m3.3 MB/s\u001b[0m eta \u001b[36m0:00:00\u001b[0m00:01\u001b[0m00:01\u001b[0m\n",
      "\u001b[?25hRequirement already satisfied: setuptools>=42.0.0 in /Users/m.cihataydemir/opt/anaconda3/lib/python3.9/site-packages (from pyinstaller) (58.0.4)\n",
      "Collecting altgraph\n",
      "  Downloading altgraph-0.17.3-py2.py3-none-any.whl (21 kB)\n",
      "Collecting macholib>=1.8\n",
      "  Downloading macholib-1.16.2-py2.py3-none-any.whl (38 kB)\n",
      "Collecting pyinstaller-hooks-contrib>=2021.4\n",
      "  Downloading pyinstaller_hooks_contrib-2022.14-py2.py3-none-any.whl (252 kB)\n",
      "\u001b[2K     \u001b[90m━━━━━━━━━━━━━━━━━━━━━━━━━━━━━━━━━━━━━━━\u001b[0m \u001b[32m252.6/252.6 kB\u001b[0m \u001b[31m2.7 MB/s\u001b[0m eta \u001b[36m0:00:00\u001b[0ma \u001b[36m0:00:01\u001b[0m\n",
      "\u001b[?25hInstalling collected packages: altgraph, pyinstaller-hooks-contrib, macholib, pyinstaller\n",
      "Successfully installed altgraph-0.17.3 macholib-1.16.2 pyinstaller-5.7.0 pyinstaller-hooks-contrib-2022.14\n",
      "Note: you may need to restart the kernel to use updated packages.\n"
     ]
    }
   ],
   "source": [
    "pip install pyinstaller\n"
   ]
  },
  {
   "cell_type": "code",
   "execution_count": 219,
   "id": "8fceec50",
   "metadata": {},
   "outputs": [
    {
     "name": "stdout",
     "output_type": "stream",
     "text": [
      "C degerini gir123\n",
      "Z degerini gir23\n",
      " \"123\"23.0 den buyuk\n",
      "Bu bilgi Dogru \n"
     ]
    }
   ],
   "source": [
    "c= int(input(\"C degerini gir\"))\n",
    "z= float(input(\"Z degerini gir\"))\n",
    "print(\" \\\"{}\\\"{} den buyuk\".format(c,z)) \n",
    "if(c<z):\n",
    "    print(\"Bu bilgi Dogru degil\")\n",
    "elif(c==z):\n",
    "    print(\"Bu bilgi dogru degil ve bu esittir\")\n",
    "else:\n",
    "    print(\"Bu bilgi Dogru \")"
   ]
  },
  {
   "cell_type": "code",
   "execution_count": 4,
   "id": "b97a30b7",
   "metadata": {},
   "outputs": [
    {
     "name": "stdout",
     "output_type": "stream",
     "text": [
      "Collecting sunpy\n",
      "  Downloading sunpy-4.1.0-cp38-abi3-macosx_10_9_x86_64.whl (4.6 MB)\n",
      "\u001b[2K     \u001b[90m━━━━━━━━━━━━━━━━━━━━━━━━━━━━━━━━━━━━━━━━\u001b[0m \u001b[32m4.6/4.6 MB\u001b[0m \u001b[31m10.8 MB/s\u001b[0m eta \u001b[36m0:00:00\u001b[0m00:01\u001b[0m00:01\u001b[0m\n",
      "\u001b[?25hRequirement already satisfied: numpy>=1.17.0 in /Users/m.cihataydemir/opt/anaconda3/lib/python3.9/site-packages (from sunpy) (1.20.3)\n",
      "Requirement already satisfied: astropy>=4.2.1 in /Users/m.cihataydemir/opt/anaconda3/lib/python3.9/site-packages (from sunpy) (4.3.1)\n",
      "Collecting parfive[ftp]>=1.2.0\n",
      "  Downloading parfive-2.0.2-py3-none-any.whl (26 kB)\n",
      "Requirement already satisfied: packaging>=19.0 in /Users/m.cihataydemir/opt/anaconda3/lib/python3.9/site-packages (from sunpy) (21.0)\n",
      "Requirement already satisfied: pyerfa>=1.7.3 in /Users/m.cihataydemir/opt/anaconda3/lib/python3.9/site-packages (from astropy>=4.2.1->sunpy) (2.0.0)\n",
      "Requirement already satisfied: pyparsing>=2.0.2 in /Users/m.cihataydemir/opt/anaconda3/lib/python3.9/site-packages (from packaging>=19.0->sunpy) (3.0.4)\n",
      "Requirement already satisfied: tqdm>=4.27.0 in /Users/m.cihataydemir/opt/anaconda3/lib/python3.9/site-packages (from parfive[ftp]>=1.2.0->sunpy) (4.62.3)\n",
      "Collecting aiohttp\n",
      "  Downloading aiohttp-3.8.3-cp39-cp39-macosx_10_9_x86_64.whl (360 kB)\n",
      "\u001b[2K     \u001b[90m━━━━━━━━━━━━━━━━━━━━━━━━━━━━━━━━━━━━━━\u001b[0m \u001b[32m360.7/360.7 kB\u001b[0m \u001b[31m14.4 MB/s\u001b[0m eta \u001b[36m0:00:00\u001b[0m\n",
      "\u001b[?25hCollecting aioftp>=0.17.1\n",
      "  Downloading aioftp-0.21.4-py3-none-any.whl (37 kB)\n",
      "Collecting async-timeout<5.0,>=4.0.0a3\n",
      "  Downloading async_timeout-4.0.2-py3-none-any.whl (5.8 kB)\n",
      "Requirement already satisfied: charset-normalizer<3.0,>=2.0 in /Users/m.cihataydemir/opt/anaconda3/lib/python3.9/site-packages (from aiohttp->parfive[ftp]>=1.2.0->sunpy) (2.0.4)\n",
      "Requirement already satisfied: attrs>=17.3.0 in /Users/m.cihataydemir/opt/anaconda3/lib/python3.9/site-packages (from aiohttp->parfive[ftp]>=1.2.0->sunpy) (21.2.0)\n",
      "Collecting yarl<2.0,>=1.0\n",
      "  Downloading yarl-1.8.2-cp39-cp39-macosx_10_9_x86_64.whl (61 kB)\n",
      "\u001b[2K     \u001b[90m━━━━━━━━━━━━━━━━━━━━━━━━━━━━━━━━━━━━━━━━\u001b[0m \u001b[32m61.2/61.2 kB\u001b[0m \u001b[31m3.3 MB/s\u001b[0m eta \u001b[36m0:00:00\u001b[0m\n",
      "\u001b[?25hCollecting frozenlist>=1.1.1\n",
      "  Downloading frozenlist-1.3.3-cp39-cp39-macosx_10_9_x86_64.whl (36 kB)\n",
      "Collecting aiosignal>=1.1.2\n",
      "  Downloading aiosignal-1.3.1-py3-none-any.whl (7.6 kB)\n",
      "Collecting multidict<7.0,>=4.5\n",
      "  Downloading multidict-6.0.4-cp39-cp39-macosx_10_9_x86_64.whl (29 kB)\n",
      "Requirement already satisfied: idna>=2.0 in /Users/m.cihataydemir/opt/anaconda3/lib/python3.9/site-packages (from yarl<2.0,>=1.0->aiohttp->parfive[ftp]>=1.2.0->sunpy) (3.2)\n",
      "Installing collected packages: multidict, frozenlist, async-timeout, aioftp, yarl, aiosignal, aiohttp, parfive, sunpy\n",
      "Successfully installed aioftp-0.21.4 aiohttp-3.8.3 aiosignal-1.3.1 async-timeout-4.0.2 frozenlist-1.3.3 multidict-6.0.4 parfive-2.0.2 sunpy-4.1.0 yarl-1.8.2\n"
     ]
    }
   ],
   "source": [
    "!pip install sunpy\n"
   ]
  },
  {
   "cell_type": "code",
   "execution_count": 7,
   "id": "02517966",
   "metadata": {},
   "outputs": [
    {
     "data": {
      "text/plain": [
       "10"
      ]
     },
     "execution_count": 7,
     "metadata": {},
     "output_type": "execute_result"
    }
   ],
   "source": [
    " randint(0,12)"
   ]
  },
  {
   "cell_type": "code",
   "execution_count": 6,
   "id": "e3512c24",
   "metadata": {},
   "outputs": [
    {
     "ename": "TypeError",
     "evalue": "randint() missing 2 required positional arguments: 'a' and 'b'",
     "output_type": "error",
     "traceback": [
      "\u001b[0;31m---------------------------------------------------------------------------\u001b[0m",
      "\u001b[0;31mTypeError\u001b[0m                                 Traceback (most recent call last)",
      "\u001b[0;32m/var/folders/sh/c3_dccq92_56w1sgd6hkjs0h0000gn/T/ipykernel_19968/3466607411.py\u001b[0m in \u001b[0;36m<module>\u001b[0;34m\u001b[0m\n\u001b[1;32m      1\u001b[0m \u001b[0;32mfrom\u001b[0m \u001b[0mrandom\u001b[0m \u001b[0;32mimport\u001b[0m \u001b[0mrandint\u001b[0m\u001b[0;34m\u001b[0m\u001b[0;34m\u001b[0m\u001b[0m\n\u001b[0;32m----> 2\u001b[0;31m \u001b[0mrandint\u001b[0m\u001b[0;34m(\u001b[0m\u001b[0;34m)\u001b[0m\u001b[0;34m\u001b[0m\u001b[0;34m\u001b[0m\u001b[0m\n\u001b[0m\u001b[1;32m      3\u001b[0m \u001b[0mc\u001b[0m\u001b[0;34m=\u001b[0m \u001b[0mint\u001b[0m\u001b[0;34m(\u001b[0m\u001b[0mrandint\u001b[0m\u001b[0;34m(\u001b[0m\u001b[0;36m0\u001b[0m\u001b[0;34m,\u001b[0m\u001b[0;36m12\u001b[0m\u001b[0;34m)\u001b[0m\u001b[0;34m)\u001b[0m\u001b[0;34m\u001b[0m\u001b[0;34m\u001b[0m\u001b[0m\n\u001b[1;32m      4\u001b[0m \u001b[0mz\u001b[0m\u001b[0;34m=\u001b[0m \u001b[0mfloat\u001b[0m\u001b[0;34m(\u001b[0m\u001b[0minput\u001b[0m\u001b[0;34m(\u001b[0m\u001b[0;34m\"Z degerini gir\"\u001b[0m\u001b[0;34m)\u001b[0m\u001b[0;34m)\u001b[0m\u001b[0;34m\u001b[0m\u001b[0;34m\u001b[0m\u001b[0m\n\u001b[1;32m      5\u001b[0m \u001b[0mprint\u001b[0m\u001b[0;34m(\u001b[0m\u001b[0;34m\" \\\"{}\\\"{} den buyuk\"\u001b[0m\u001b[0;34m.\u001b[0m\u001b[0mformat\u001b[0m\u001b[0;34m(\u001b[0m\u001b[0mc\u001b[0m\u001b[0;34m,\u001b[0m\u001b[0mz\u001b[0m\u001b[0;34m)\u001b[0m\u001b[0;34m)\u001b[0m\u001b[0;34m\u001b[0m\u001b[0;34m\u001b[0m\u001b[0m\n",
      "\u001b[0;31mTypeError\u001b[0m: randint() missing 2 required positional arguments: 'a' and 'b'"
     ]
    }
   ],
   "source": [
    "from random import randint \n",
    "c= int(randint(0,12))\n",
    "z= float(input(\"Z degerini gir\"))\n",
    "print(\" \\\"{}\\\"{} den buyuk\".format(c,z)) \n",
    "if(c<z or c==z):\n",
    "    if(c<z and c==z):\n",
    "        print(\"Bu bilgi kismen dogru\")\n",
    "    else:\n",
    "        print(\"Bu bilgi Dogru\")\n",
    "else:\n",
    "    print(\"Bu bilgi Dogru degil\")"
   ]
  },
  {
   "cell_type": "code",
   "execution_count": 71,
   "id": "cddc2d34",
   "metadata": {
    "scrolled": true
   },
   "outputs": [
    {
     "name": "stdout",
     "output_type": "stream",
     "text": [
      "0. index \"10\"  0 den buyuk\n",
      "Bu bilgi Dogru degil\n",
      "1. index \"3\"  1 den buyuk\n",
      "Bu bilgi Dogru degil\n",
      "2. index \"1\"  2 den buyuk\n",
      "Bu bilgi Dogru\n",
      "3. index \"10\"  3 den buyuk\n",
      "Bu bilgi Dogru degil\n",
      "4. index \"5\"  4 den buyuk\n",
      "Bu bilgi Dogru degil\n",
      "5. index \"12\"  5 den buyuk\n",
      "Bu bilgi Dogru degil\n",
      "6. index \"8\"  6 den buyuk\n",
      "Bu bilgi Dogru degil\n",
      "7. index \"11\"  7 den buyuk\n",
      "Bu bilgi Dogru degil\n",
      "8. index \"10\"  8 den buyuk\n",
      "Bu bilgi Dogru degil\n",
      "9. index \"12\"  9 den buyuk\n",
      "Bu bilgi Dogru degil\n",
      "10. index \"11\"  10 den buyuk\n",
      "Bu bilgi Dogru degil\n",
      "11. index \"6\"  11 den buyuk\n",
      "Bu bilgi Dogru\n",
      "12. index \"2\"  12 den buyuk\n",
      "Bu bilgi Dogru\n",
      "13. index \"0\"  13 den buyuk\n",
      "Bu bilgi Dogru\n",
      "14. index \"10\"  14 den buyuk\n",
      "Bu bilgi Dogru\n"
     ]
    }
   ],
   "source": [
    "from random import *\n",
    "x=randint\n",
    "\n",
    "for i,data in enumerate(range(randint(10,23))):\n",
    "    c= int(randint(0,12))\n",
    "    z= int(data)\n",
    "    print(\"{}. index \\\"{}\\\"  {} den buyuk\".format(i,c,z)) \n",
    "\n",
    "\n",
    "    if(c<z or c==z):\n",
    "        if(c<z and c==z):\n",
    "            print(\"Bu bilgi kismen dogru\")\n",
    "        else:\n",
    "            print(\"Bu bilgi Dogru\")\n",
    "    else:\n",
    "        print(\"Bu bilgi Dogru degil\")"
   ]
  },
  {
   "cell_type": "markdown",
   "id": "19d834c4",
   "metadata": {},
   "source": [
    "<img src=\"operat.png\" alt=\"Alternative text\" />\n",
    "\n",
    "\n"
   ]
  },
  {
   "cell_type": "code",
   "execution_count": 8,
   "id": "6f33c997",
   "metadata": {},
   "outputs": [
    {
     "data": {
      "text/plain": [
       "1"
      ]
     },
     "execution_count": 8,
     "metadata": {},
     "output_type": "execute_result"
    }
   ],
   "source": [
    "#Fizz Buzz yapalım\n",
    "5%2"
   ]
  },
  {
   "cell_type": "code",
   "execution_count": null,
   "id": "4a54df90",
   "metadata": {},
   "outputs": [],
   "source": []
  }
 ],
 "metadata": {
  "kernelspec": {
   "display_name": "Python 3 (ipykernel)",
   "language": "python",
   "name": "python3"
  },
  "language_info": {
   "codemirror_mode": {
    "name": "ipython",
    "version": 3
   },
   "file_extension": ".py",
   "mimetype": "text/x-python",
   "name": "python",
   "nbconvert_exporter": "python",
   "pygments_lexer": "ipython3",
   "version": "3.9.7"
  }
 },
 "nbformat": 4,
 "nbformat_minor": 5
}
