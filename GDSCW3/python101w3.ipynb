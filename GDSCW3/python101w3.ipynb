{
 "cells": [
  {
   "cell_type": "code",
   "execution_count": 18,
   "id": "9853dde6",
   "metadata": {},
   "outputs": [
    {
     "data": {
      "text/plain": [
       "'Selam'"
      ]
     },
     "execution_count": 18,
     "metadata": {},
     "output_type": "execute_result"
    }
   ],
   "source": [
    "#Read 'r' Write 'w' Text 't' Binary 'b'\n",
    "f = open(\"Ders.txt\",\"rt\")\n",
    "f.read()"
   ]
  },
  {
   "cell_type": "code",
   "execution_count": 19,
   "id": "26aa2c46",
   "metadata": {},
   "outputs": [
    {
     "ename": "UnsupportedOperation",
     "evalue": "not readable",
     "output_type": "error",
     "traceback": [
      "\u001b[0;31m---------------------------------------------------------------------------\u001b[0m",
      "\u001b[0;31mUnsupportedOperation\u001b[0m                      Traceback (most recent call last)",
      "\u001b[0;32m/var/folders/sh/c3_dccq92_56w1sgd6hkjs0h0000gn/T/ipykernel_30316/3717722923.py\u001b[0m in \u001b[0;36m<module>\u001b[0;34m\u001b[0m\n\u001b[1;32m      1\u001b[0m \u001b[0mf\u001b[0m \u001b[0;34m=\u001b[0m \u001b[0mopen\u001b[0m\u001b[0;34m(\u001b[0m\u001b[0;34m\"Ders.txt\"\u001b[0m\u001b[0;34m,\u001b[0m\u001b[0;34m\"wt\"\u001b[0m\u001b[0;34m)\u001b[0m\u001b[0;34m\u001b[0m\u001b[0;34m\u001b[0m\u001b[0m\n\u001b[0;32m----> 2\u001b[0;31m \u001b[0mf\u001b[0m\u001b[0;34m.\u001b[0m\u001b[0mread\u001b[0m\u001b[0;34m(\u001b[0m\u001b[0;34m)\u001b[0m\u001b[0;34m\u001b[0m\u001b[0;34m\u001b[0m\u001b[0m\n\u001b[0m",
      "\u001b[0;31mUnsupportedOperation\u001b[0m: not readable"
     ]
    }
   ],
   "source": [
    "f = open(\"Ders.txt\",\"wt\")\n",
    "f.read()"
   ]
  },
  {
   "cell_type": "markdown",
   "id": "cbca42ed",
   "metadata": {},
   "source": [
    "- \"x\" - Create - will create a file, returns an error if the file exist\n",
    "\n",
    "- \"a\" - Append - will create a file if the specified file does not exist\n",
    "\n",
    "- \"w\" - Write - will create a file if the specified file does not exist"
   ]
  },
  {
   "cell_type": "code",
   "execution_count": 21,
   "id": "9c4a1472",
   "metadata": {},
   "outputs": [
    {
     "data": {
      "text/plain": [
       "<_io.TextIOWrapper name='Dersdegil.txt' mode='a' encoding='UTF-8'>"
      ]
     },
     "execution_count": 21,
     "metadata": {},
     "output_type": "execute_result"
    }
   ],
   "source": [
    "#Dosya oluşturma yöntemi\n",
    "open(\"Dersdegil.txt\",\"a\")"
   ]
  },
  {
   "cell_type": "code",
   "execution_count": 24,
   "id": "6857bf3b",
   "metadata": {},
   "outputs": [],
   "source": [
    "import os\n",
    "#if os.path.exists(\"Dersdegil.txt\"):\n",
    "os.remove(\"Dersdegil.txt\")"
   ]
  },
  {
   "cell_type": "code",
   "execution_count": 25,
   "id": "a51189c9",
   "metadata": {},
   "outputs": [],
   "source": [
    "def Func():\n",
    "    x=12\n",
    "    x=x+5\n",
    "    return x"
   ]
  },
  {
   "cell_type": "code",
   "execution_count": 26,
   "id": "7695b86d",
   "metadata": {},
   "outputs": [
    {
     "data": {
      "text/plain": [
       "17"
      ]
     },
     "execution_count": 26,
     "metadata": {},
     "output_type": "execute_result"
    }
   ],
   "source": [
    "Func()"
   ]
  },
  {
   "cell_type": "markdown",
   "id": "b6db6bef",
   "metadata": {},
   "source": [
    "# Args Kwargs\n"
   ]
  },
  {
   "cell_type": "code",
   "execution_count": 31,
   "id": "b2f5874c",
   "metadata": {},
   "outputs": [],
   "source": [
    "#Args\n",
    "def Bilgiler(*bilgi):\n",
    "    \n",
    "    print(len(bilgi))"
   ]
  },
  {
   "cell_type": "code",
   "execution_count": 32,
   "id": "ed3a99c2",
   "metadata": {},
   "outputs": [
    {
     "name": "stdout",
     "output_type": "stream",
     "text": [
      "3\n"
     ]
    }
   ],
   "source": [
    "\n",
    "Bilgiler(\"ASD\",23,121)"
   ]
  },
  {
   "cell_type": "code",
   "execution_count": 37,
   "id": "a89ac3b3",
   "metadata": {},
   "outputs": [],
   "source": [
    "#Kwargs\n",
    "def Bilgidegiskenli(**bilgi):\n",
    "    print(bilgi['isim'])"
   ]
  },
  {
   "cell_type": "code",
   "execution_count": 38,
   "id": "025b72d2",
   "metadata": {},
   "outputs": [
    {
     "name": "stdout",
     "output_type": "stream",
     "text": [
      "Metehan\n"
     ]
    }
   ],
   "source": [
    "Bilgidegiskenli(isim=\"Metehan\",Soyisim=\"Aydemir\")"
   ]
  },
  {
   "cell_type": "markdown",
   "id": "2ba23d07",
   "metadata": {},
   "source": [
    "# Lambda \n"
   ]
  },
  {
   "cell_type": "code",
   "execution_count": 47,
   "id": "e36fe9bd",
   "metadata": {},
   "outputs": [
    {
     "name": "stdout",
     "output_type": "stream",
     "text": [
      "14\n",
      "396\n"
     ]
    }
   ],
   "source": [
    "#The expression is executed and the result is returned:\n",
    "\n",
    "x= lambda T:T+12\n",
    "print(x(2))\n",
    "a = lambda c,b:c*b*12\n",
    "print(a(1,33))\n",
    "\n"
   ]
  },
  {
   "cell_type": "code",
   "execution_count": 48,
   "id": "7fd4ab40",
   "metadata": {},
   "outputs": [],
   "source": [
    "def Func(a):\n",
    "    return lambda t:t* a"
   ]
  },
  {
   "cell_type": "code",
   "execution_count": 51,
   "id": "c9a28f7b",
   "metadata": {
    "scrolled": true
   },
   "outputs": [
    {
     "name": "stdout",
     "output_type": "stream",
     "text": [
      "20\n"
     ]
    }
   ],
   "source": [
    "ilkfonksiyon = Func(10(2))\n",
    "print(ilkfonksiyon)"
   ]
  },
  {
   "cell_type": "markdown",
   "id": "874a1954",
   "metadata": {},
   "source": [
    "## Global Variables and local Varibles\n",
    "- Global variables are variables declared outside a function. Local variables are variables declared inside a function."
   ]
  },
  {
   "cell_type": "code",
   "execution_count": 63,
   "id": "c2aa638e",
   "metadata": {
    "scrolled": true
   },
   "outputs": [
    {
     "name": "stdout",
     "output_type": "stream",
     "text": [
      "7 2\n"
     ]
    }
   ],
   "source": [
    "#Global\n",
    "a=2\n",
    "\n",
    "def local():\n",
    "    a=5\n",
    "    return a+2\n",
    "    \n",
    "print(local(),a)"
   ]
  },
  {
   "cell_type": "markdown",
   "id": "c68da31a",
   "metadata": {},
   "source": [
    "# Moduls"
   ]
  },
  {
   "cell_type": "code",
   "execution_count": 66,
   "id": "81a5ffe7",
   "metadata": {},
   "outputs": [
    {
     "name": "stdout",
     "output_type": "stream",
     "text": [
      "Ozel Print Mesela demek istedim\n"
     ]
    },
    {
     "data": {
      "text/plain": [
       "'Mesela demek istedim'"
      ]
     },
     "execution_count": 66,
     "metadata": {},
     "output_type": "execute_result"
    }
   ],
   "source": [
    "import func\n",
    "\n",
    "func.Myprint(\"Mesela demek istedim\")"
   ]
  },
  {
   "cell_type": "code",
   "execution_count": null,
   "id": "4f69e8ed",
   "metadata": {},
   "outputs": [],
   "source": [
    "#https://www.hackerrank.com/domains/python?filters%5Bstatus%5D%5B%5D=unsolved&badge_type=python"
   ]
  }
 ],
 "metadata": {
  "kernelspec": {
   "display_name": "Python 3 (ipykernel)",
   "language": "python",
   "name": "python3"
  },
  "language_info": {
   "codemirror_mode": {
    "name": "ipython",
    "version": 3
   },
   "file_extension": ".py",
   "mimetype": "text/x-python",
   "name": "python",
   "nbconvert_exporter": "python",
   "pygments_lexer": "ipython3",
   "version": "3.9.7"
  }
 },
 "nbformat": 4,
 "nbformat_minor": 5
}
