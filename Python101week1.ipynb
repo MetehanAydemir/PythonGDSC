{
 "cells": [
  {
   "cell_type": "code",
   "execution_count": 1,
   "id": "d2d6f2c8",
   "metadata": {},
   "outputs": [
    {
     "name": "stdout",
     "output_type": "stream",
     "text": [
      "Hello World\n"
     ]
    }
   ],
   "source": [
    "#Bu bir yazdirma fonksiyonudur\n",
    "\n",
    "print(\"Hello World\")\n"
   ]
  },
  {
   "cell_type": "code",
   "execution_count": 118,
   "id": "fc074171",
   "metadata": {},
   "outputs": [
    {
     "name": "stdout",
     "output_type": "stream",
     "text": [
      "Alooooo\n"
     ]
    },
    {
     "data": {
      "text/plain": [
       "2"
      ]
     },
     "execution_count": 118,
     "metadata": {},
     "output_type": "execute_result"
    }
   ],
   "source": [
    "#Degisken atayalım int = tam sayı, string = Metin, float = küsaratlı sayılar double= daha fazla küsaratlı sayı\n",
    "t='a'\n",
    "x = 2.0     #float32 \n",
    "#x= 24.000001 #float64 \n",
    "c= 24.002131289371298471298759812758917258123\n",
    "y= \"Alooooo\" #peynir\n",
    "#y= 12345 #int32 \n",
    "\n",
    "print(y)\n",
    "#int(x)  -> 2\n",
    "#str(x)  -> 2.33\n",
    "#float(x)-> 2.33\n",
    "#bool(x) -> True\n",
    "x.is_integer()\n",
    "int(x)\n"
   ]
  },
  {
   "cell_type": "code",
   "execution_count": 162,
   "id": "5594bde0",
   "metadata": {},
   "outputs": [
    {
     "data": {
      "text/plain": [
       "'Sara Elif Ece Hira Ulas Samet Goksu'"
      ]
     },
     "execution_count": 162,
     "metadata": {},
     "output_type": "execute_result"
    }
   ],
   "source": [
    "\n",
    "y= \"Sara,Elif,Ece,Hira,Ulas,Samet,Goksu\"\n",
    "#y.lower()  #kelimelerin harflerini küçültür\n",
    "#y.upper() #Kelimenin harflerini büyütür\n",
    "#y.find(\" \") #Aradığın harfi getirir\n",
    "#y.encode(encoding='UTF-8') #ingilizce alfabede olmayan özel karakterleri kullana bilmemizi sağlar \n",
    "#y.center(30, \" \")# Metnin önünü ve arkasını doldurur\n",
    "#y.isalnum() #Metin değişken sayıdan ibaretmi onu kontrol eder. \n",
    "#y.isalpha() #Metin alfabetik sıralı mı onu kontrol eder.\n",
    "#y.zfill(23) #Metnin başını 0 ile doldurur\n",
    "#y=y.split(sep=',')    #Metindeki belirttiğimiz kısımlardan böler ve list şeklinde geri döner\n",
    "#y.strip('S')\n",
    "#y.replace(\",\",\" \")\n",
    "print(\"Metin = {} dur {} karakter vardir\".format(y,len(y)))\n"
   ]
  },
  {
   "cell_type": "markdown",
   "id": "d7be4e03",
   "metadata": {},
   "source": [
    "<img src=\"screenshot-string.png\" alt=\"Alternative text\" />\n"
   ]
  },
  {
   "cell_type": "code",
   "execution_count": 27,
   "id": "9b3657f1",
   "metadata": {},
   "outputs": [
    {
     "name": "stdout",
     "output_type": "stream",
     "text": [
      "Merhaba arkadaşlar ben github.com1\b'dayımı\b.\n",
      "Beni bulmak istiyorsaniz\r",
      "GitHub A \"Metehanaydemir\" Yazın \n"
     ]
    }
   ],
   "source": [
    "print(\"Merhaba arkadaşlar ben {}\\b\\'dayımı\\b.\\nBeni bulmak istiyorsanız\\rGitHub A \\\"Metehanaydemir\\\" Yazın \".format(\"github.com1\"))"
   ]
  },
  {
   "cell_type": "markdown",
   "id": "85a26315",
   "metadata": {},
   "source": [
    "<img src=\"CompOp.png\" alt=\"Alternative text\" />\n",
    "\n"
   ]
  },
  {
   "cell_type": "code",
   "execution_count": 40,
   "id": "65e7c962",
   "metadata": {},
   "outputs": [
    {
     "name": "stdout",
     "output_type": "stream",
     "text": [
      "True\n"
     ]
    }
   ],
   "source": [
    "c=12\n",
    "z=123\n",
    "print(c<z or c==z)"
   ]
  },
  {
   "cell_type": "markdown",
   "id": "a8ae4d6c",
   "metadata": {},
   "source": [
    "<img src=\"LogicOp.png\" alt=\"Alternative text\" />\n",
    "\n"
   ]
  },
  {
   "cell_type": "code",
   "execution_count": 52,
   "id": "cd71f372",
   "metadata": {},
   "outputs": [
    {
     "name": "stdout",
     "output_type": "stream",
     "text": [
      "C degerini gir123\n",
      "Z degerini gir2334\n",
      " \"123\"2334.0 den buyuk\n",
      "Bu bilgi Dogru\n"
     ]
    }
   ],
   "source": [
    "c= int(input(\"C degerini gir\"))\n",
    "z= float(input(\"Z degerini gir\"))\n",
    "print(\" \\\"{}\\\"{} den buyuk\".format(c,z)) \n",
    "if(c<z or c==z):\n",
    "    if(c<z and c==z):\n",
    "        print(\"Bu bilgi kismen dogru\")\n",
    "    else:\n",
    "        print(\"Bu bilgi Dogru\")\n",
    "else:\n",
    "    print(\"Bu bilgi Dogru degil\")"
   ]
  },
  {
   "cell_type": "code",
   "execution_count": 57,
   "id": "801ff7d4",
   "metadata": {},
   "outputs": [
    {
     "name": "stdout",
     "output_type": "stream",
     "text": [
      "Z degerini gir3\n",
      " \"10\"3.0 den buyuk\n",
      "Bu bilgi Dogru degil\n"
     ]
    }
   ],
   "source": [
    "import random\n",
    "\n",
    "c= int(random.randint(0,12))\n",
    "z= float(input(\"Z degerini gir\"))\n",
    "print(\" \\\"{}\\\"{} den buyuk\".format(c,z)) \n",
    "if(c<z or c==z):\n",
    "    if(c<z and c==z):\n",
    "        print(\"Bu bilgi kismen dogru\")\n",
    "    else:\n",
    "        print(\"Bu bilgi Dogru\")\n",
    "else:\n",
    "    print(\"Bu bilgi Dogru degil\")"
   ]
  },
  {
   "cell_type": "code",
   "execution_count": 71,
   "id": "84b2e3b2",
   "metadata": {
    "scrolled": true
   },
   "outputs": [
    {
     "name": "stdout",
     "output_type": "stream",
     "text": [
      "0. index \"10\"  0 den buyuk\n",
      "Bu bilgi Dogru degil\n",
      "1. index \"3\"  1 den buyuk\n",
      "Bu bilgi Dogru degil\n",
      "2. index \"1\"  2 den buyuk\n",
      "Bu bilgi Dogru\n",
      "3. index \"10\"  3 den buyuk\n",
      "Bu bilgi Dogru degil\n",
      "4. index \"5\"  4 den buyuk\n",
      "Bu bilgi Dogru degil\n",
      "5. index \"12\"  5 den buyuk\n",
      "Bu bilgi Dogru degil\n",
      "6. index \"8\"  6 den buyuk\n",
      "Bu bilgi Dogru degil\n",
      "7. index \"11\"  7 den buyuk\n",
      "Bu bilgi Dogru degil\n",
      "8. index \"10\"  8 den buyuk\n",
      "Bu bilgi Dogru degil\n",
      "9. index \"12\"  9 den buyuk\n",
      "Bu bilgi Dogru degil\n",
      "10. index \"11\"  10 den buyuk\n",
      "Bu bilgi Dogru degil\n",
      "11. index \"6\"  11 den buyuk\n",
      "Bu bilgi Dogru\n",
      "12. index \"2\"  12 den buyuk\n",
      "Bu bilgi Dogru\n",
      "13. index \"0\"  13 den buyuk\n",
      "Bu bilgi Dogru\n",
      "14. index \"10\"  14 den buyuk\n",
      "Bu bilgi Dogru\n"
     ]
    }
   ],
   "source": [
    "from random import *\n",
    "x=randint\n",
    "\n",
    "for i,data in enumerate(range(randint(10,23))):\n",
    "    c= int(randint(0,12))\n",
    "    z= int(data)\n",
    "    print(\"{}. index \\\"{}\\\"  {} den buyuk\".format(i,c,z)) \n",
    "\n",
    "\n",
    "    if(c<z or c==z):\n",
    "        if(c<z and c==z):\n",
    "            print(\"Bu bilgi kismen dogru\")\n",
    "        else:\n",
    "            print(\"Bu bilgi Dogru\")\n",
    "    else:\n",
    "        print(\"Bu bilgi Dogru degil\")"
   ]
  },
  {
   "cell_type": "markdown",
   "id": "1ea8934b",
   "metadata": {},
   "source": [
    "<img src=\"operat.png\" alt=\"Alternative text\" />\n",
    "\n",
    "\n"
   ]
  },
  {
   "cell_type": "code",
   "execution_count": 76,
   "id": "1317c58b",
   "metadata": {},
   "outputs": [
    {
     "data": {
      "text/plain": [
       "0"
      ]
     },
     "execution_count": 76,
     "metadata": {},
     "output_type": "execute_result"
    }
   ],
   "source": [
    "#Fizz Buzz yapalım\n",
    "2//5"
   ]
  },
  {
   "cell_type": "code",
   "execution_count": null,
   "id": "219ea52c",
   "metadata": {},
   "outputs": [],
   "source": []
  }
 ],
 "metadata": {
  "kernelspec": {
   "display_name": "Python 3 (ipykernel)",
   "language": "python",
   "name": "python3"
  },
  "language_info": {
   "codemirror_mode": {
    "name": "ipython",
    "version": 3
   },
   "file_extension": ".py",
   "mimetype": "text/x-python",
   "name": "python",
   "nbconvert_exporter": "python",
   "pygments_lexer": "ipython3",
   "version": "3.9.7"
  }
 },
 "nbformat": 4,
 "nbformat_minor": 5
}
