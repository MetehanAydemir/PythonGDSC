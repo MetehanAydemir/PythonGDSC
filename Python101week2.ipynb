{
 "cells": [
  {
   "cell_type": "code",
   "execution_count": 8,
   "id": "a076969c",
   "metadata": {},
   "outputs": [],
   "source": []
  },
  {
   "cell_type": "code",
   "execution_count": 9,
   "id": "4ff0cc66",
   "metadata": {},
   "outputs": [
    {
     "data": {
      "text/plain": [
       "b'\\x1f\\x05'"
      ]
     },
     "execution_count": 9,
     "metadata": {},
     "output_type": "execute_result"
    }
   ],
   "source": []
  },
  {
   "cell_type": "code",
   "execution_count": 1,
   "id": "db2abe7f",
   "metadata": {},
   "outputs": [
    {
     "name": "stdout",
     "output_type": "stream",
     "text": [
      "0. index \"11\"  0 den buyuk\n",
      "Bu bilgi Dogru degil\n",
      "1. index \"6\"  1 den buyuk\n",
      "Bu bilgi Dogru degil\n",
      "2. index \"8\"  2 den buyuk\n",
      "Bu bilgi Dogru degil\n",
      "3. index \"5\"  3 den buyuk\n",
      "Bu bilgi Dogru degil\n",
      "4. index \"10\"  4 den buyuk\n",
      "Bu bilgi Dogru degil\n",
      "5. index \"11\"  5 den buyuk\n",
      "Bu bilgi Dogru degil\n",
      "6. index \"9\"  6 den buyuk\n",
      "Bu bilgi Dogru degil\n",
      "7. index \"12\"  7 den buyuk\n",
      "Bu bilgi Dogru degil\n",
      "8. index \"6\"  8 den buyuk\n",
      "Bu bilgi Dogru\n",
      "9. index \"10\"  9 den buyuk\n",
      "Bu bilgi Dogru degil\n",
      "10. index \"3\"  10 den buyuk\n",
      "Bu bilgi Dogru\n",
      "11. index \"2\"  11 den buyuk\n",
      "Bu bilgi Dogru\n",
      "12. index \"12\"  12 den buyuk\n",
      "Bu bilgi Dogru\n",
      "13. index \"5\"  13 den buyuk\n",
      "Bu bilgi Dogru\n",
      "14. index \"12\"  14 den buyuk\n",
      "Bu bilgi Dogru\n",
      "15. index \"2\"  15 den buyuk\n",
      "Bu bilgi Dogru\n",
      "16. index \"12\"  16 den buyuk\n",
      "Bu bilgi Dogru\n",
      "17. index \"3\"  17 den buyuk\n",
      "Bu bilgi Dogru\n",
      "18. index \"1\"  18 den buyuk\n",
      "Bu bilgi Dogru\n"
     ]
    }
   ],
   "source": [
    "from random import randint\n",
    " \n",
    "for i,data in enumerate(range(randint(10,23))):\n",
    "    c= int(randint(0,12))\n",
    "    z= int(data)\n",
    "    print(\"{}. index \\\"{}\\\"  {} den buyuk\".format(i,c,z)) \n",
    "\n",
    "\n",
    "    if(c<z or c==z):\n",
    "        if(c<z and c==z):\n",
    "            print(\"Bu bilgi kismen dogru\")\n",
    "        else:\n",
    "            print(\"Bu bilgi Dogru\")\n",
    "    else:\n",
    "        print(\"Bu bilgi Dogru degil\")"
   ]
  },
  {
   "cell_type": "code",
   "execution_count": 11,
   "id": "f3b967ca",
   "metadata": {},
   "outputs": [
    {
     "name": "stdout",
     "output_type": "stream",
     "text": [
      "0\n",
      "1\n",
      "2\n",
      "3\n",
      "4\n",
      "5\n",
      "6\n",
      "7\n",
      "8\n",
      "9\n"
     ]
    }
   ],
   "source": [
    "for x in range(10):\n",
    "    \n",
    "    print(x)\n",
    "    "
   ]
  },
  {
   "cell_type": "code",
   "execution_count": 15,
   "id": "607fbb67",
   "metadata": {},
   "outputs": [
    {
     "data": {
      "text/plain": [
       "2"
      ]
     },
     "execution_count": 15,
     "metadata": {},
     "output_type": "execute_result"
    }
   ],
   "source": [
    "a=range(2,12)\n",
    "a[0]"
   ]
  },
  {
   "cell_type": "markdown",
   "id": "05cfca32",
   "metadata": {},
   "source": [
    "# Listeler\n"
   ]
  },
  {
   "cell_type": "code",
   "execution_count": 23,
   "id": "820ffe8e",
   "metadata": {
    "scrolled": true
   },
   "outputs": [],
   "source": [
    "liste = [\"Matematik\", \"Fizik\",\"Edebiyat\"]\n",
    "liste.append(\"Müzik\")\n",
    "#print(type(liste))\n",
    "#print(liste)\n",
    "#liste[0]=\"Lineer Cebir\"\n",
    "#liste.append(\"ingilizce\")\n",
    "\n"
   ]
  },
  {
   "cell_type": "code",
   "execution_count": 25,
   "id": "bb7ea370",
   "metadata": {},
   "outputs": [],
   "source": [
    "liste.remove(\"Fizik\")\n"
   ]
  },
  {
   "cell_type": "code",
   "execution_count": 28,
   "id": "efc724ac",
   "metadata": {},
   "outputs": [],
   "source": [
    "liste[0]=\"Resim\"\n"
   ]
  },
  {
   "cell_type": "code",
   "execution_count": 31,
   "id": "8e3b3559",
   "metadata": {},
   "outputs": [
    {
     "data": {
      "text/plain": [
       "list"
      ]
     },
     "execution_count": 31,
     "metadata": {},
     "output_type": "execute_result"
    }
   ],
   "source": [
    "type(liste)\n"
   ]
  },
  {
   "cell_type": "code",
   "execution_count": 33,
   "id": "0143e33f",
   "metadata": {},
   "outputs": [
    {
     "name": "stdout",
     "output_type": "stream",
     "text": [
      "range(0, 10, 4)\n"
     ]
    }
   ],
   "source": [
    "range(0,10,4)"
   ]
  },
  {
   "cell_type": "code",
   "execution_count": 45,
   "id": "2f1fe43a",
   "metadata": {},
   "outputs": [
    {
     "name": "stdout",
     "output_type": "stream",
     "text": [
      "0 Resim\n",
      "1 Edebiyat\n",
      "2 Müzik\n",
      "Toplam ders 3\n"
     ]
    }
   ],
   "source": [
    "#### for enumerate range\n",
    "for i,ders in enumerate(liste):\n",
    "    print(i,ders)\n",
    "print(\"Toplam ders\",i+1)"
   ]
  },
  {
   "cell_type": "code",
   "execution_count": null,
   "id": "d47d17a8",
   "metadata": {},
   "outputs": [],
   "source": [
    "liste."
   ]
  },
  {
   "cell_type": "markdown",
   "id": "599accdd",
   "metadata": {},
   "source": [
    "# Tuples"
   ]
  },
  {
   "cell_type": "code",
   "execution_count": 52,
   "id": "11f220db",
   "metadata": {},
   "outputs": [
    {
     "name": "stdout",
     "output_type": "stream",
     "text": [
      "('TC NO', 'Dogum Tarihi', 'Dogum Yeri')\n",
      "TC NO\n",
      "Dogum Tarihi\n",
      "Dogum Yeri\n"
     ]
    }
   ],
   "source": [
    "#Unchangeable\n",
    "#A tuple is a collection which is ordered and unchangeable.\n",
    "\n",
    "\n",
    "Gizlibilgi= (\"TC NO\",\"Dogum Tarihi\",\"Dogum Yeri\")\n",
    "print(Gizlibilgi)\n",
    "#tcno, dogumt,dogumy=Gizlibilgi\n",
    "for x in Gizlibilgi:\n",
    "    print(x)"
   ]
  },
  {
   "cell_type": "code",
   "execution_count": null,
   "id": "3a262bf6",
   "metadata": {},
   "outputs": [],
   "source": [
    " "
   ]
  },
  {
   "cell_type": "code",
   "execution_count": 57,
   "id": "7c2e1782",
   "metadata": {},
   "outputs": [
    {
     "data": {
      "text/plain": [
       "'2018'"
      ]
     },
     "execution_count": 57,
     "metadata": {},
     "output_type": "execute_result"
    }
   ],
   "source": [
    "#2d List\n",
    "arabalar = [[\"Volvo\",\"2018\"],[\"BMW\",\"2021\"],[\"Tofas\",\"2002\"]]\n",
    "arabalar[0][]"
   ]
  },
  {
   "cell_type": "markdown",
   "id": "18db7dd9",
   "metadata": {},
   "source": [
    "# Dictionaries"
   ]
  },
  {
   "cell_type": "code",
   "execution_count": 60,
   "id": "9559db95",
   "metadata": {
    "scrolled": false
   },
   "outputs": [
    {
     "data": {
      "text/plain": [
       "'Balik'"
      ]
     },
     "execution_count": 60,
     "metadata": {},
     "output_type": "execute_result"
    }
   ],
   "source": [
    "#ictionary items are ordered, changeable, and does not allow duplicates.\n",
    " \n",
    "#Dictionary items are presented in key:value pairs, and can be referred to by using the key name.\n",
    "\n",
    "Sozluk={\"A\":[\"All\",\"Allow\"],\n",
    "       \"B\":\"Balik\",\n",
    "       \"C\":[\"Cerrah\",\"Cerrah\"],\n",
    "       \"C\":\"Cezbetmek\"}\n",
    "Sozluk[\"B\"] #Cagirmak\n",
    "\n",
    "#Sozluk[\"C\"]= \"Cezbetmekmemek\" #Update etmek\n",
    "#Sozluk[\"D\"]= \"Deniz\" #Yeni key eklemek\n",
    "#for harf in Sozluk: #Sozluk.values() Icindeki degerleri cagirir #Sozluk.items()\n",
    "\n",
    "#    print(harf)\n",
    "\n"
   ]
  },
  {
   "cell_type": "code",
   "execution_count": 65,
   "id": "19bd867b",
   "metadata": {},
   "outputs": [
    {
     "data": {
      "text/plain": [
       "('Cezbetmet', 'Cerrah')"
      ]
     },
     "execution_count": 65,
     "metadata": {},
     "output_type": "execute_result"
    }
   ],
   "source": [
    "Sozluk[\"C\"]= \"Cezbetmet\", \"Cerrah\"\n"
   ]
  },
  {
   "cell_type": "code",
   "execution_count": 72,
   "id": "c0393030",
   "metadata": {},
   "outputs": [
    {
     "data": {
      "text/plain": [
       "1"
      ]
     },
     "execution_count": 72,
     "metadata": {},
     "output_type": "execute_result"
    }
   ],
   "source": [
    "Sozluk\n",
    "\n",
    "def abc():\n",
    "    x=0\n",
    "    b = x+1 \n",
    "    return b"
   ]
  },
  {
   "cell_type": "code",
   "execution_count": 74,
   "id": "6620ff36",
   "metadata": {},
   "outputs": [
    {
     "name": "stdout",
     "output_type": "stream",
     "text": [
      "['All', 'Allow']\n",
      "Balik\n",
      "('Cezbetmet', 'Cerrah')\n",
      "Deep\n"
     ]
    }
   ],
   "source": [
    "for x in Sozluk:\n",
    "    print(x)"
   ]
  },
  {
   "cell_type": "code",
   "execution_count": null,
   "id": "f3c78255",
   "metadata": {},
   "outputs": [],
   "source": []
  },
  {
   "cell_type": "markdown",
   "id": "78dc5dda",
   "metadata": {},
   "source": [
    "<img src=\"dictlist.png\" alt=\"Alternative text\" />\n"
   ]
  },
  {
   "cell_type": "markdown",
   "id": "ca5bf77c",
   "metadata": {},
   "source": [
    "# While "
   ]
  },
  {
   "cell_type": "code",
   "execution_count": 93,
   "id": "f7df23e2",
   "metadata": {
    "scrolled": true
   },
   "outputs": [
    {
     "name": "stdout",
     "output_type": "stream",
     "text": [
      "Başaramadık abi\n",
      "Başaramadık abi\n",
      "Başaramadık abi\n",
      "Başaramadık abi\n",
      "Başaramadık abi\n",
      "Başaramadık abi\n",
      "Başaramadık abi\n",
      "Başaramadık abi\n",
      "Başaramadık abi\n",
      "Başaramadık abi\n",
      "anlamsiz bir program\n",
      "Başaramadık abi\n",
      "Başaramadık abi\n",
      "Başaramadık abi\n",
      "Başaramadık abi\n",
      "Başaramadık abi\n",
      "Başaramadık abi\n",
      "Başaramadık abi\n",
      "Başaramadık abi\n",
      "Başaramadık abi\n",
      "Başaramadık abi\n",
      "anlamsiz bir program\n",
      "Başaramadık abi\n",
      "Başaramadık abi\n",
      "Başaramadık abi\n",
      "Başaramadık abi\n",
      "Başaramadık abi\n",
      "Başaramadık abi\n",
      "Başaramadık abi\n",
      "Başaramadık abi\n",
      "Başaramadık abi\n",
      "Başaramadık abi\n",
      "anlamsiz bir program\n",
      "Neyi basaramadin aaa\n"
     ]
    }
   ],
   "source": [
    "liste=[]\n",
    "\n",
    "x=10\n",
    "b=1\n",
    "hava=\"Hava Gunesli\"\n",
    "while b<4:\n",
    "    x=0\n",
    "    while x<10:\n",
    "        liste[x+b]=x\n",
    "\n",
    "\n",
    "    b+=1\n",
    "if (sonuc==\"Başaramadık abi\"):\n",
    "    print(\"Neyi basaramadin aaa\")"
   ]
  },
  {
   "cell_type": "markdown",
   "id": "def41275",
   "metadata": {},
   "source": [
    "# Try/Except"
   ]
  },
  {
   "cell_type": "code",
   "execution_count": 94,
   "id": "aa58a8a1",
   "metadata": {},
   "outputs": [
    {
     "name": "stdout",
     "output_type": "stream",
     "text": [
      "Neyi basaramadin aaa\n"
     ]
    }
   ],
   "source": [
    "while b<4:\n",
    "    x=0\n",
    "    while x<10:\n",
    "        try:\n",
    "            liste[x+b]=x\n",
    "        except:\n",
    "            sonuc=\"Başaramadık abi\"\n",
    "            print(sonuc)\n",
    "        x+=1\n",
    "    try:\n",
    "        print(havaa)\n",
    "    except:\n",
    "        print(\"anlamsiz bir program\")\n",
    "    finally:\n",
    "        print\n",
    "    b+=1\n",
    "if (sonuc==\"Başaramadık abi\"):\n",
    "    print(\"Neyi basaramadin aaa\")"
   ]
  },
  {
   "cell_type": "code",
   "execution_count": 102,
   "id": "e49d295b",
   "metadata": {},
   "outputs": [
    {
     "name": "stdout",
     "output_type": "stream",
     "text": [
      "0\n",
      "1\n",
      "2\n",
      "3 Fizz\n",
      "4\n",
      "5 Buzz\n",
      "6 Fizz\n",
      "7\n",
      "8\n",
      "9 Fizz\n",
      "10 Buzz\n",
      "11\n",
      "12 Fizz\n",
      "13\n",
      "14\n",
      "15 FizzBuzz\n",
      "16\n",
      "17\n",
      "18 Fizz\n",
      "19\n",
      "20 Buzz\n",
      "21 Fizz\n",
      "22\n",
      "23\n",
      "24 Fizz\n",
      "25 Buzz\n",
      "26\n",
      "27 Fizz\n",
      "28\n",
      "29\n",
      "30 FizzBuzz\n",
      "31\n",
      "32\n",
      "33 Fizz\n",
      "34\n",
      "35 Buzz\n",
      "36 Fizz\n",
      "37\n",
      "38\n",
      "39 Fizz\n",
      "40 Buzz\n",
      "41\n",
      "42 Fizz\n",
      "43\n",
      "44\n",
      "45 FizzBuzz\n"
     ]
    }
   ],
   "source": [
    "#Fizz Buzz\n",
    "#Fizz en az 5 en az 3 Buzz en azn 3FizzBuzz  \n",
    "Fizz =0\n",
    "Buzz =0\n",
    "FizzBuzz=0\n",
    "x=0\n",
    "while (Fizz<5 or Buzz<3 or 3>FizzBuzz):\n",
    "    if x%3==0 and x%15!=0:\n",
    "        Fizz+=1\n",
    "        print(x,\"Fizz\")\n",
    "    elif x%5==0 and x%15!=0:\n",
    "        Buzz+=1\n",
    "        print(x,\"Buzz\")\n",
    "    elif x%15==0 and x!=0:\n",
    "        FizzBuzz+=1\n",
    "        print(x,\"FizzBuzz\")\n",
    "    else:\n",
    "        print(x)\n",
    "    x+=1"
   ]
  },
  {
   "cell_type": "code",
   "execution_count": 103,
   "id": "a22f617e",
   "metadata": {},
   "outputs": [],
   "source": [
    "###Ödev###\n",
    "#total 3 değişken\n",
    "#Aynı kurallar\n"
   ]
  },
  {
   "cell_type": "code",
   "execution_count": null,
   "id": "e51040b8",
   "metadata": {},
   "outputs": [],
   "source": [
    "#\n"
   ]
  },
  {
   "cell_type": "code",
   "execution_count": null,
   "id": "ea7c8f0b",
   "metadata": {},
   "outputs": [],
   "source": [
    "+"
   ]
  }
 ],
 "metadata": {
  "kernelspec": {
   "display_name": "Python 3 (ipykernel)",
   "language": "python",
   "name": "python3"
  },
  "language_info": {
   "codemirror_mode": {
    "name": "ipython",
    "version": 3
   },
   "file_extension": ".py",
   "mimetype": "text/x-python",
   "name": "python",
   "nbconvert_exporter": "python",
   "pygments_lexer": "ipython3",
   "version": "3.9.7"
  }
 },
 "nbformat": 4,
 "nbformat_minor": 5
}
